{
 "cells": [
  {
   "cell_type": "markdown",
   "metadata": {},
   "source": [
    "# Supermarket Optimization"
   ]
  },
  {
   "cell_type": "code",
   "execution_count": 1,
   "metadata": {},
   "outputs": [],
   "source": [
    "from itertools import combinations\n",
    "from collections import Counter\n",
    "import csv"
   ]
  },
  {
   "cell_type": "markdown",
   "metadata": {},
   "source": [
    "#### Open the data file"
   ]
  },
  {
   "cell_type": "code",
   "execution_count": 2,
   "metadata": {},
   "outputs": [],
   "source": [
    "with open('retail_25k.dat','r') as f:\n",
    "    data = [line.rstrip().split() for line in f]"
   ]
  },
  {
   "cell_type": "code",
   "execution_count": 3,
   "metadata": {},
   "outputs": [
    {
     "data": {
      "text/plain": [
       "[['0', '1', '2', '3', '4', '5', '6', '7', '8', '9'],\n",
       " ['30', '31', '32'],\n",
       " ['33', '34', '35'],\n",
       " ['36', '37', '38', '39', '40', '41', '42', '43', '44', '45'],\n",
       " ['38', '39', '47', '48'],\n",
       " ['38', '39', '48', '49', '50', '51', '52', '53', '54', '55'],\n",
       " ['32', '41', '59', '60', '61', '62'],\n",
       " ['3', '39', '48'],\n",
       " ['63', '64', '65', '66', '67', '68'],\n",
       " ['32', '69']]"
      ]
     },
     "execution_count": 3,
     "metadata": {},
     "output_type": "execute_result"
    }
   ],
   "source": [
    "[item[:10] for item in data[:10]]"
   ]
  },
  {
   "cell_type": "markdown",
   "metadata": {},
   "source": [
    "#### Set the model parameters"
   ]
  },
  {
   "cell_type": "code",
   "execution_count": 4,
   "metadata": {},
   "outputs": [],
   "source": [
    "item_set_size = 3\n",
    "sigma = 4"
   ]
  },
  {
   "cell_type": "markdown",
   "metadata": {},
   "source": [
    "#### Find all unique combinations in each list (duplicates allowed between lists)"
   ]
  },
  {
   "cell_type": "code",
   "execution_count": 5,
   "metadata": {},
   "outputs": [],
   "source": [
    "sets = []\n",
    "for line in data:\n",
    "    sets.append(list(set(combinations(line, item_set_size))))"
   ]
  },
  {
   "cell_type": "code",
   "execution_count": 6,
   "metadata": {},
   "outputs": [
    {
     "data": {
      "text/plain": [
       "[[('5', '21', '25'),\n",
       "  ('2', '15', '19'),\n",
       "  ('4', '8', '17'),\n",
       "  ('4', '26', '28'),\n",
       "  ('7', '17', '18'),\n",
       "  ('8', '14', '17'),\n",
       "  ('3', '4', '8'),\n",
       "  ('2', '21', '24'),\n",
       "  ('8', '17', '19'),\n",
       "  ('14', '25', '27')],\n",
       " [('30', '31', '32')],\n",
       " [('33', '34', '35')],\n",
       " [('38', '43', '46'),\n",
       "  ('37', '39', '41'),\n",
       "  ('37', '40', '44'),\n",
       "  ('37', '43', '46'),\n",
       "  ('36', '39', '42'),\n",
       "  ('38', '42', '46'),\n",
       "  ('43', '45', '46'),\n",
       "  ('36', '37', '39'),\n",
       "  ('42', '45', '46'),\n",
       "  ('37', '38', '44')],\n",
       " [('38', '39', '48'),\n",
       "  ('38', '39', '47'),\n",
       "  ('38', '47', '48'),\n",
       "  ('39', '47', '48')],\n",
       " [('39', '57', '58'),\n",
       "  ('49', '51', '53'),\n",
       "  ('38', '52', '57'),\n",
       "  ('38', '39', '52'),\n",
       "  ('38', '49', '57'),\n",
       "  ('39', '55', '56'),\n",
       "  ('39', '53', '57'),\n",
       "  ('38', '49', '53'),\n",
       "  ('39', '50', '56'),\n",
       "  ('48', '52', '56')],\n",
       " [('59', '60', '61'),\n",
       "  ('32', '41', '60'),\n",
       "  ('41', '59', '61'),\n",
       "  ('41', '59', '60'),\n",
       "  ('59', '60', '62'),\n",
       "  ('32', '61', '62'),\n",
       "  ('32', '59', '62'),\n",
       "  ('41', '60', '61'),\n",
       "  ('32', '60', '62'),\n",
       "  ('32', '59', '61')],\n",
       " [('3', '39', '48')],\n",
       " [('66', '67', '68'),\n",
       "  ('64', '67', '68'),\n",
       "  ('63', '64', '67'),\n",
       "  ('64', '65', '67'),\n",
       "  ('63', '67', '68'),\n",
       "  ('63', '65', '67'),\n",
       "  ('63', '64', '66'),\n",
       "  ('64', '65', '66'),\n",
       "  ('65', '66', '67'),\n",
       "  ('65', '66', '68')],\n",
       " []]"
      ]
     },
     "execution_count": 6,
     "metadata": {},
     "output_type": "execute_result"
    }
   ],
   "source": [
    "[item[:10] for item in sets[:10]]"
   ]
  },
  {
   "cell_type": "markdown",
   "metadata": {},
   "source": [
    "#### Flattened the above **_sets_** list"
   ]
  },
  {
   "cell_type": "code",
   "execution_count": 7,
   "metadata": {},
   "outputs": [],
   "source": [
    "flattened_list = [elem for sublist in sets for elem in sublist]"
   ]
  },
  {
   "cell_type": "code",
   "execution_count": 8,
   "metadata": {},
   "outputs": [
    {
     "data": {
      "text/plain": [
       "[('5', '21', '25'),\n",
       " ('2', '15', '19'),\n",
       " ('4', '8', '17'),\n",
       " ('4', '26', '28'),\n",
       " ('7', '17', '18'),\n",
       " ('8', '14', '17'),\n",
       " ('3', '4', '8'),\n",
       " ('2', '21', '24'),\n",
       " ('8', '17', '19'),\n",
       " ('14', '25', '27')]"
      ]
     },
     "execution_count": 8,
     "metadata": {},
     "output_type": "execute_result"
    }
   ],
   "source": [
    "flattened_list[:10]"
   ]
  },
  {
   "cell_type": "markdown",
   "metadata": {},
   "source": [
    "#### Use a **_Counter_** object to count each unique combination"
   ]
  },
  {
   "cell_type": "code",
   "execution_count": 9,
   "metadata": {},
   "outputs": [],
   "source": [
    "counter = Counter(flattened_list).most_common()"
   ]
  },
  {
   "cell_type": "code",
   "execution_count": 10,
   "metadata": {},
   "outputs": [
    {
     "data": {
      "text/plain": [
       "[(('39', '41', '48'), 3352),\n",
       " (('38', '39', '48'), 1580),\n",
       " (('32', '39', '48'), 1577),\n",
       " (('38', '39', '41'), 1426),\n",
       " (('32', '39', '41'), 1168),\n",
       " (('38', '41', '48'), 1052),\n",
       " (('32', '41', '48'), 995),\n",
       " (('38', '39', '170'), 630),\n",
       " (('36', '38', '39'), 530),\n",
       " (('32', '38', '39'), 524)]"
      ]
     },
     "execution_count": 10,
     "metadata": {},
     "output_type": "execute_result"
    }
   ],
   "source": [
    "counter[:10]"
   ]
  },
  {
   "cell_type": "markdown",
   "metadata": {},
   "source": [
    "#### Format the output as a list-of-lists to prepare to save as a .csv file"
   ]
  },
  {
   "cell_type": "code",
   "execution_count": 11,
   "metadata": {},
   "outputs": [],
   "source": [
    "# <item set size (N)>, <co-occurrence frequency>, <item 1 id >, <item 2 id>, …. <item N id>\n",
    "\n",
    "output = [['item set size (N)', 'co-occurrence frequency']]\n",
    "output[0].extend(['item {} id'.format(N + 1) for N in range(item_set_size)])\n",
    "\n",
    "for item_set in counter:\n",
    "    if item_set[1] >= sigma:\n",
    "        row = [item_set_size, item_set[1]]\n",
    "        row.extend(item_set[0])\n",
    "        output.append(row)"
   ]
  },
  {
   "cell_type": "code",
   "execution_count": 12,
   "metadata": {},
   "outputs": [
    {
     "data": {
      "text/plain": [
       "[['item set size (N)',\n",
       "  'co-occurrence frequency',\n",
       "  'item 1 id',\n",
       "  'item 2 id',\n",
       "  'item 3 id'],\n",
       " [3, 3352, '39', '41', '48'],\n",
       " [3, 1580, '38', '39', '48'],\n",
       " [3, 1577, '32', '39', '48'],\n",
       " [3, 1426, '38', '39', '41'],\n",
       " [3, 1168, '32', '39', '41'],\n",
       " [3, 1052, '38', '41', '48'],\n",
       " [3, 995, '32', '41', '48'],\n",
       " [3, 630, '38', '39', '170'],\n",
       " [3, 530, '36', '38', '39']]"
      ]
     },
     "execution_count": 12,
     "metadata": {},
     "output_type": "execute_result"
    }
   ],
   "source": [
    "output[:10]"
   ]
  },
  {
   "cell_type": "markdown",
   "metadata": {},
   "source": [
    "#### Save the final output to **_output.csv_**"
   ]
  },
  {
   "cell_type": "code",
   "execution_count": 13,
   "metadata": {},
   "outputs": [],
   "source": [
    "with open(\"output.csv\", \"w\") as f:\n",
    "    writer = csv.writer(f)\n",
    "    writer.writerows(output)"
   ]
  },
  {
   "cell_type": "code",
   "execution_count": null,
   "metadata": {},
   "outputs": [],
   "source": []
  }
 ],
 "metadata": {
  "kernelspec": {
   "display_name": "Python 3",
   "language": "python",
   "name": "python3"
  },
  "language_info": {
   "codemirror_mode": {
    "name": "ipython",
    "version": 3
   },
   "file_extension": ".py",
   "mimetype": "text/x-python",
   "name": "python",
   "nbconvert_exporter": "python",
   "pygments_lexer": "ipython3",
   "version": "3.7.1"
  }
 },
 "nbformat": 4,
 "nbformat_minor": 2
}
